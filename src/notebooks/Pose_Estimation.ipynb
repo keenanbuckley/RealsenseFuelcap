{
 "cells": [
  {
   "cell_type": "code",
   "execution_count": null,
   "metadata": {},
   "outputs": [],
   "source": [
    "%cd ~/mines_ws\n",
    "import sys\n",
    "sys.path.append(\"./src/keypoints_detection\")\n",
    "\n",
    "from src.image_transformations.coordinate_transforms import *\n",
    "from src.bounding_box import BBoxModel\n",
    "from src.keypoints_detection.keypoint_model import KPModel\n",
    "\n",
    "import torch\n",
    "from PIL import Image\n",
    "import cv2\n",
    "from src.keypoints_detection.hourglass import hg\n",
    "from scipy.spatial.transform import Rotation\n",
    "import os\n",
    "import random\n",
    "import time\n",
    "import matplotlib.pyplot as plt"
   ]
  },
  {
   "cell_type": "code",
   "execution_count": null,
   "metadata": {},
   "outputs": [],
   "source": [
    "img_dir = \"./data/RealWorldBboxData/\"\n",
    "test_img = random.choice(os.listdir(f\"{img_dir}/color\"))\n",
    "print(test_img)"
   ]
  },
  {
   "cell_type": "code",
   "execution_count": null,
   "metadata": {},
   "outputs": [],
   "source": [
    "\n",
    "bboxModel = BBoxModel(\"models/bbox_net_trained.pth\")\n",
    "kpModel = KPModel(path=\"models/keypoints_detection.pth\")"
   ]
  },
  {
   "cell_type": "code",
   "execution_count": null,
   "metadata": {},
   "outputs": [],
   "source": [
    "t0 = time.time()\n",
    "img = cv2.imread(f\"{img_dir}/color/{test_img}\")\n",
    "img_pill = Image.fromarray(img)\n",
    "depth_img = np.load(f'{img_dir}/depth/{test_img[:-4]}.npy')\n",
    "K = IntrinsicsMatrix()\n",
    "\n",
    "bbox, score = bboxModel.find_bbox(img_pill)\n",
    "kpts = kpModel.predict(img, bbox)\n",
    "rotation, translation, img, _ = kpModel.predict_position(K, depth_img, 12, img)\n",
    "if translation is not None:\n",
    "    H = TransformationMatrix(R=rotation, t=translation) \n",
    "    annotate_img(img, H, K)\n",
    "else:\n",
    "    print(\"Could not calculate position\")\n",
    "\n",
    "print(\"Elapsed time:\", time.time() - t0)\n",
    "\n",
    "image_rgb = cv2.cvtColor(img, cv2.COLOR_BGR2RGB)\n",
    "\n",
    "# Plot the image using Matplotlib\n",
    "plt.imshow(image_rgb)\n",
    "plt.title('OpenCV BGR Image Plotted with Matplotlib')\n",
    "plt.axis('off')  # Turn off axis labels\n",
    "plt.show()"
   ]
  },
  {
   "cell_type": "code",
   "execution_count": null,
   "metadata": {},
   "outputs": [],
   "source": []
  }
 ],
 "metadata": {
  "kernelspec": {
   "display_name": "Python 3",
   "language": "python",
   "name": "python3"
  },
  "language_info": {
   "codemirror_mode": {
    "name": "ipython",
    "version": 3
   },
   "file_extension": ".py",
   "mimetype": "text/x-python",
   "name": "python",
   "nbconvert_exporter": "python",
   "pygments_lexer": "ipython3",
   "version": "3.10.12"
  }
 },
 "nbformat": 4,
 "nbformat_minor": 2
}
